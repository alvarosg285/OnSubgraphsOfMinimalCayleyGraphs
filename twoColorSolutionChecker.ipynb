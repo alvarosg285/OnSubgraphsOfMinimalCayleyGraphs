{
 "cells": [
  {
   "cell_type": "markdown",
   "id": "d80aa7f0",
   "metadata": {},
   "source": [
    "# TWO COLOR SOLUTION CHECKER\n",
    "Notebook that, using the function defined in the file 'twoColorsSolutionChecker.py', verifies if a given coloring using two colors, is a no lonely coloring."
   ]
  },
  {
   "cell_type": "code",
   "execution_count": null,
   "id": "950a722b",
   "metadata": {},
   "outputs": [],
   "source": [
    "from twoColorsSolutionChecker import isSolutionCorrect\n",
    "\n",
    "# WRITE THE GRAPH THAT YOU WANT TO CHECK\n",
    "g6_string = r\"U??????_A?C?F?CoY?CP?W_?IC@G_?IO?@c??M??\"\n",
    "G = Graph(g6_string)\n",
    "\n",
    "# COLOR THE EDGES\n",
    "G.set_edge_label(0,9,1)\n",
    "G.set_edge_label(0,14,1)\n",
    "G.set_edge_label(0,15,2)\n",
    "G.set_edge_label(1,10,1)\n",
    "G.set_edge_label(1,14,2)\n",
    "G.set_edge_label(1,16,1)\n",
    "G.set_edge_label(2,11,1)\n",
    "G.set_edge_label(2,16,2)\n",
    "G.set_edge_label(2,18,1)\n",
    "G.set_edge_label(3,12,1)\n",
    "G.set_edge_label(3,13,1)\n",
    "G.set_edge_label(3,14,2)\n",
    "G.set_edge_label(4,12,1)\n",
    "G.set_edge_label(4,15,1)\n",
    "G.set_edge_label(4,17,2)\n",
    "G.set_edge_label(5,12,2)\n",
    "G.set_edge_label(5,18,2)\n",
    "G.set_edge_label(5,19,1)\n",
    "G.set_edge_label(6,13,1)\n",
    "G.set_edge_label(6,16,2)\n",
    "G.set_edge_label(6,17,2)\n",
    "G.set_edge_label(7,13,2)\n",
    "G.set_edge_label(7,19,2)\n",
    "G.set_edge_label(7,20,1)\n",
    "G.set_edge_label(8,15,2)\n",
    "G.set_edge_label(8,20,2)\n",
    "G.set_edge_label(8,21,1)\n",
    "G.set_edge_label(9,18,2)\n",
    "G.set_edge_label(9,21,2)\n",
    "G.set_edge_label(10,19,1)\n",
    "G.set_edge_label(10,21,2)\n",
    "G.set_edge_label(11,17,1)\n",
    "G.set_edge_label(11,20,2)\n",
    "\n",
    "print(G.edges())\n",
    "\n",
    "color1 = 1\n",
    "color2 = 2\n",
    "isSolutionCorrect(G, color1, color2)"
   ]
  }
 ],
 "metadata": {
  "kernelspec": {
   "display_name": "SageMath 9.5",
   "language": "sage",
   "name": "sagemath"
  },
  "language_info": {
   "codemirror_mode": {
    "name": "ipython",
    "version": 3
   },
   "file_extension": ".py",
   "mimetype": "text/x-python",
   "name": "python",
   "nbconvert_exporter": "python",
   "pygments_lexer": "ipython3",
   "version": "3.10.12"
  }
 },
 "nbformat": 4,
 "nbformat_minor": 5
}
