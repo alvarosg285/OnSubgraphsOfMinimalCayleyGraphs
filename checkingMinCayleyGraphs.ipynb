{
 "cells": [
  {
   "cell_type": "markdown",
   "id": "7efeb1ac",
   "metadata": {},
   "source": [
    "# CHECKING THE MINIMAL CAYLEY GRAPHS\n",
    "Given a graph G, we go through all the minimal Cayley graphs up to 255 vertices, and we check if G is a subgraph of any of these minimal Cayley graphs."
   ]
  },
  {
   "cell_type": "code",
   "execution_count": null,
   "id": "f5908aee",
   "metadata": {},
   "outputs": [],
   "source": [
    "import os\n",
    "import time\n",
    "\n",
    "finished = False\n",
    "\n",
    "G = graphs.GeneralizedPetersenGraph(8,2)\n",
    "\n",
    "start = time.time()\n",
    "for numVertices in range(len(G), 256):\n",
    "    print(f\"Checking minimal Cayley graphs with {numVertices} vertices...\")\n",
    "    f = open(\"mincay_2_255/mincay_\"+str(numVertices)+\".g6\",\"r\")\n",
    "\n",
    "    lines = f.readlines()\n",
    "    \n",
    "    for i, line in enumerate(lines):\n",
    "        g6_string = line\n",
    "\n",
    "        try:\n",
    "            minCayleyGraph = Graph(g6_string)\n",
    "        except Exception as e:\n",
    "            print(f\"Exception: {e}\")\n",
    "            print(f\"Graph: {g6_string}\")\n",
    "            continue\n",
    "    \n",
    "        # In this case it can not be a subgraph, so we skip it\n",
    "        if max(minCayleyGraph.degree()) < max(G.degree()):\n",
    "            continue\n",
    "\n",
    "        if minCayleyGraph.subgraph_search(G, induced=False) is not None:\n",
    "            print(f\"This graph is subgraph of the minimal Cayley graph {g6_string}\")\n",
    "\n",
    "            finished = True\n",
    "            break\n",
    "        \n",
    "    if finished: break\n",
    "\n",
    "end = time.time()\n",
    "print(f\"Graph checked in {end-start}s\")"
   ]
  }
 ],
 "metadata": {
  "kernelspec": {
   "display_name": "SageMath 9.5",
   "language": "sage",
   "name": "sagemath"
  },
  "language_info": {
   "codemirror_mode": {
    "name": "ipython",
    "version": 3
   },
   "file_extension": ".py",
   "mimetype": "text/x-python",
   "name": "python",
   "nbconvert_exporter": "python",
   "pygments_lexer": "ipython3",
   "version": "3.10.12"
  }
 },
 "nbformat": 4,
 "nbformat_minor": 5
}
